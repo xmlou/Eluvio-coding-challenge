{
 "cells": [
  {
   "cell_type": "markdown",
   "metadata": {},
   "source": [
    "# 0. Load data and take a look\n",
    "* Inspect the variables\n",
    "* Check missing value\n",
    "* Simple visulization"
   ]
  },
  {
   "cell_type": "code",
   "execution_count": 155,
   "metadata": {},
   "outputs": [],
   "source": [
    "import pandas as pd\n",
    "import numpy as np\n",
    "import matplotlib.pyplot as plt\n",
    "import seaborn as sns\n",
    "sns.set_style('whitegrid')\n",
    "%matplotlib inline\n",
    "\n",
    "news = pd.read_csv('Eluvio_DS_Challenge.csv')"
   ]
  },
  {
   "cell_type": "code",
   "execution_count": 156,
   "metadata": {},
   "outputs": [
    {
     "data": {
      "text/html": [
       "<div>\n",
       "<style scoped>\n",
       "    .dataframe tbody tr th:only-of-type {\n",
       "        vertical-align: middle;\n",
       "    }\n",
       "\n",
       "    .dataframe tbody tr th {\n",
       "        vertical-align: top;\n",
       "    }\n",
       "\n",
       "    .dataframe thead th {\n",
       "        text-align: right;\n",
       "    }\n",
       "</style>\n",
       "<table border=\"1\" class=\"dataframe\">\n",
       "  <thead>\n",
       "    <tr style=\"text-align: right;\">\n",
       "      <th></th>\n",
       "      <th>time_created</th>\n",
       "      <th>date_created</th>\n",
       "      <th>up_votes</th>\n",
       "      <th>down_votes</th>\n",
       "      <th>title</th>\n",
       "      <th>over_18</th>\n",
       "      <th>author</th>\n",
       "      <th>category</th>\n",
       "    </tr>\n",
       "  </thead>\n",
       "  <tbody>\n",
       "    <tr>\n",
       "      <th>0</th>\n",
       "      <td>1201232046</td>\n",
       "      <td>2008-01-25</td>\n",
       "      <td>3</td>\n",
       "      <td>0</td>\n",
       "      <td>Scores killed in Pakistan clashes</td>\n",
       "      <td>False</td>\n",
       "      <td>polar</td>\n",
       "      <td>worldnews</td>\n",
       "    </tr>\n",
       "    <tr>\n",
       "      <th>1</th>\n",
       "      <td>1201232075</td>\n",
       "      <td>2008-01-25</td>\n",
       "      <td>2</td>\n",
       "      <td>0</td>\n",
       "      <td>Japan resumes refuelling mission</td>\n",
       "      <td>False</td>\n",
       "      <td>polar</td>\n",
       "      <td>worldnews</td>\n",
       "    </tr>\n",
       "    <tr>\n",
       "      <th>2</th>\n",
       "      <td>1201232523</td>\n",
       "      <td>2008-01-25</td>\n",
       "      <td>3</td>\n",
       "      <td>0</td>\n",
       "      <td>US presses Egypt on Gaza border</td>\n",
       "      <td>False</td>\n",
       "      <td>polar</td>\n",
       "      <td>worldnews</td>\n",
       "    </tr>\n",
       "    <tr>\n",
       "      <th>3</th>\n",
       "      <td>1201233290</td>\n",
       "      <td>2008-01-25</td>\n",
       "      <td>1</td>\n",
       "      <td>0</td>\n",
       "      <td>Jump-start economy: Give health care to all</td>\n",
       "      <td>False</td>\n",
       "      <td>fadi420</td>\n",
       "      <td>worldnews</td>\n",
       "    </tr>\n",
       "    <tr>\n",
       "      <th>4</th>\n",
       "      <td>1201274720</td>\n",
       "      <td>2008-01-25</td>\n",
       "      <td>4</td>\n",
       "      <td>0</td>\n",
       "      <td>Council of Europe bashes EU&amp;UN terror blacklist</td>\n",
       "      <td>False</td>\n",
       "      <td>mhermans</td>\n",
       "      <td>worldnews</td>\n",
       "    </tr>\n",
       "  </tbody>\n",
       "</table>\n",
       "</div>"
      ],
      "text/plain": [
       "   time_created date_created  up_votes  down_votes  \\\n",
       "0    1201232046   2008-01-25         3           0   \n",
       "1    1201232075   2008-01-25         2           0   \n",
       "2    1201232523   2008-01-25         3           0   \n",
       "3    1201233290   2008-01-25         1           0   \n",
       "4    1201274720   2008-01-25         4           0   \n",
       "\n",
       "                                             title  over_18    author  \\\n",
       "0                Scores killed in Pakistan clashes    False     polar   \n",
       "1                 Japan resumes refuelling mission    False     polar   \n",
       "2                  US presses Egypt on Gaza border    False     polar   \n",
       "3     Jump-start economy: Give health care to all     False   fadi420   \n",
       "4  Council of Europe bashes EU&UN terror blacklist    False  mhermans   \n",
       "\n",
       "    category  \n",
       "0  worldnews  \n",
       "1  worldnews  \n",
       "2  worldnews  \n",
       "3  worldnews  \n",
       "4  worldnews  "
      ]
     },
     "execution_count": 156,
     "metadata": {},
     "output_type": "execute_result"
    }
   ],
   "source": [
    "#having a look at the head of the dataset\n",
    "news.head()"
   ]
  },
  {
   "cell_type": "code",
   "execution_count": 157,
   "metadata": {},
   "outputs": [
    {
     "name": "stdout",
     "output_type": "stream",
     "text": [
      "<class 'pandas.core.frame.DataFrame'>\n",
      "RangeIndex: 509236 entries, 0 to 509235\n",
      "Data columns (total 8 columns):\n",
      "time_created    509236 non-null int64\n",
      "date_created    509236 non-null object\n",
      "up_votes        509236 non-null int64\n",
      "down_votes      509236 non-null int64\n",
      "title           509236 non-null object\n",
      "over_18         509236 non-null bool\n",
      "author          509236 non-null object\n",
      "category        509236 non-null object\n",
      "dtypes: bool(1), int64(3), object(4)\n",
      "memory usage: 27.7+ MB\n"
     ]
    }
   ],
   "source": [
    "news.info()"
   ]
  },
  {
   "cell_type": "code",
   "execution_count": 158,
   "metadata": {},
   "outputs": [
    {
     "name": "stdout",
     "output_type": "stream",
     "text": [
      "0    509236\n",
      "Name: down_votes, dtype: int64\n",
      "False    508916\n",
      "True        320\n",
      "Name: over_18, dtype: int64\n",
      "davidreiss666      8897\n",
      "anutensil          5730\n",
      "DoremusJessup      5037\n",
      "maxwellhill        4023\n",
      "igeldard           4013\n",
      "                   ... \n",
      "topiks1               1\n",
      "highrockstudios       1\n",
      "enevo                 1\n",
      "anarchistbanker       1\n",
      "gahte3                1\n",
      "Name: author, Length: 85838, dtype: int64\n",
      "worldnews    509236\n",
      "Name: category, dtype: int64\n"
     ]
    }
   ],
   "source": [
    "print(news['down_votes'].value_counts())\n",
    "print(news['over_18'].value_counts())\n",
    "print(news['author'].value_counts())\n",
    "print(news['category'].value_counts())"
   ]
  },
  {
   "cell_type": "code",
   "execution_count": 159,
   "metadata": {},
   "outputs": [],
   "source": [
    "# Dropping category and down_votes as they have same values.\n",
    "news.drop(columns=[\"down_votes\",\"category\"], axis = 1, inplace = True)"
   ]
  },
  {
   "cell_type": "code",
   "execution_count": 161,
   "metadata": {},
   "outputs": [],
   "source": [
    "news['time_created'] = pd.to_datetime(news['time_created'], unit='s')\n",
    "news['date_created'] = pd.to_datetime(news['date_created'])\n",
    "news['day'] = news['date_created'].dt.day_name()\n",
    "news['year'] = news['date_created'].dt.year\n",
    "news['month'] = news['date_created'].dt.month"
   ]
  },
  {
   "cell_type": "code",
   "execution_count": 162,
   "metadata": {},
   "outputs": [
    {
     "data": {
      "text/plain": [
       "Text(0.5, 1.0, 'Num of posts vs Day of Week')"
      ]
     },
     "execution_count": 162,
     "metadata": {},
     "output_type": "execute_result"
    },
    {
     "data": {
      "image/png": "[encoded data removed]",
      "text/plain": [
       "<Figure size 1080x288 with 2 Axes>"
      ]
     },
     "metadata": {},
     "output_type": "display_data"
    }
   ],
   "source": [
    "f, ax = plt.subplots(1, 2, figsize=(15, 4))\n",
    "g=sns.countplot(x='year',data=news,ax=ax[0])\n",
    "g.set_title('Num of news vs Year')\n",
    "g=sns.countplot(x='day',data=news,ax=ax[1])\n",
    "g.set_title('Num of news vs Day of Week')"
   ]
  },
  {
   "cell_type": "code",
   "execution_count": 177,
   "metadata": {},
   "outputs": [
    {
     "data": {
      "text/plain": [
       "Text(0.5, 1.0, 'Average up_votes vs Day of Week')"
      ]
     },
     "execution_count": 177,
     "metadata": {},
     "output_type": "execute_result"
    },
    {
     "data": {
      "image/png": "[encoded data removed]",
      "text/plain": [
       "<Figure size 1080x288 with 2 Axes>"
      ]
     },
     "metadata": {},
     "output_type": "display_data"
    }
   ],
   "source": [
    "f, ax = plt.subplots(1, 2, figsize=(15, 4))\n",
    "set1 = news.groupby('year').mean()['up_votes'].reset_index(name='avg_upvotes')\n",
    "g = sns.barplot(x='year',y='avg_upvotes',data=set1, ax=ax[0])\n",
    "g.set_title('Average up_votes vs Year')\n",
    "set2 = news.groupby('day').mean()['up_votes'].reset_index(name='avg_upvotes')\n",
    "g = sns.barplot(x='day',y='avg_upvotes',data=set2, ax=ax[1])\n",
    "g.set_title(\"Average up_votes vs Day of Week\")"
   ]
  },
  {
   "cell_type": "markdown",
   "metadata": {},
   "source": [
    "## 1. Text Preprocess\n",
    "\n",
    "* Remove punctuations\n",
    "* Tokenization \n",
    "* Lemmatization and Stemmming"
   ]
  },
  {
   "cell_type": "code",
   "execution_count": 164,
   "metadata": {},
   "outputs": [],
   "source": [
    "# Load the regular expression library\n",
    "import re\n",
    "\n",
    "def clean_document(document):\n",
    "    \"\"\"Cleans document by removing unnecessary punctuation. It also removes\n",
    "    any extra periods and merges acronyms to prevent the tokenizer from\n",
    "    splitting a false sentence\n",
    "    \"\"\"\n",
    "    document = re.sub('[^A-Za-z0-9 \\']', '', document)\n",
    "    document = re.sub(\"\\'s\", \"\", document)\n",
    "    document = document.replace(\"New York Times\", \"NewYorkTimes\")\n",
    "    document = document.replace('U of', 'University of')\n",
    "    document = document.replace('U S', 'US').replace('U N', 'UN')\n",
    "    \n",
    "    # Remove extra whitespace\n",
    "    document = ' '.join(document.split())\n",
    "    return document"
   ]
  },
  {
   "cell_type": "code",
   "execution_count": 165,
   "metadata": {},
   "outputs": [],
   "source": [
    "# Since the goal of this analysis is to perform topic modeling, \n",
    "# we will solely focus on the title data from each news, and/ drop other metadata columns.\n",
    "docs = [clean_document(doc) for doc in news['title']]"
   ]
  },
  {
   "cell_type": "code",
   "execution_count": 171,
   "metadata": {},
   "outputs": [],
   "source": [
    "# Tokenize the documents.\n",
    "from gensim.parsing.preprocessing import STOPWORDS\n",
    "from nltk.tokenize import RegexpTokenizer\n",
    "\n",
    "tokenizer = RegexpTokenizer(r'\\w+')\n",
    "for idx in range(len(docs)):\n",
    "    docs[idx] = docs[idx].lower()  # Convert to lowercase.\n",
    "    docs[idx] = tokenizer.tokenize(docs[idx])  # Split into words.\n",
    "\n",
    "# Remove stop words.\n",
    "docs = [[token for token in doc if not token in STOPWORDS] for doc in docs]\n",
    "\n",
    "# Remove numbers, but not words that contain numbers.\n",
    "docs = [[token for token in doc if not token.isnumeric()] for doc in docs]\n",
    "\n",
    "# Remove words that are only one character.\n",
    "docs = [[token for token in doc if len(token) > 1 ] for doc in docs]"
   ]
  },
  {
   "cell_type": "code",
   "execution_count": 175,
   "metadata": {},
   "outputs": [],
   "source": [
    "import nltk\n",
    "# nltk.download('wordnet') \n",
    "\n",
    "from nltk.stem.wordnet import WordNetLemmatizer\n",
    "from nltk.stem.snowball import SnowballStemmer"
   ]
  },
  {
   "cell_type": "code",
   "execution_count": 176,
   "metadata": {},
   "outputs": [],
   "source": [
    "lemmatizer = WordNetLemmatizer()\n",
    "stemmer = SnowballStemmer(\"english\")\n",
    "\n",
    "docs = [[stemmer.stem(lemmatizer.lemmatize(token)) for token in doc] for doc in docs]"
   ]
  },
  {
   "cell_type": "code",
   "execution_count": null,
   "metadata": {},
   "outputs": [],
   "source": [
    "# Top 10 most common works\n",
    "word_counts = pd.Series(np.concatenate(docs)).value_counts()\n",
    "word_counts[1:].head(10)"
   ]
  },
  {
   "cell_type": "markdown",
   "metadata": {},
   "source": [
    "## 2. Running LDA using Bag of Words\n",
    "\n",
    "* Bag-of-words representation\n",
    "* Choose the number of topics using topic coherence score\n",
    "* Fit the LDA model with the chosen number of topics"
   ]
  },
  {
   "cell_type": "code",
   "execution_count": 178,
   "metadata": {},
   "outputs": [],
   "source": [
    "from gensim.corpora import Dictionary\n",
    "\n",
    "# Create a dictionary representation of the documents.\n",
    "dictionary = Dictionary(docs)\n",
    "\n",
    "# Bag-of-words representation of the documents.\n",
    "bow_corpus = [dictionary.doc2bow(doc) for doc in docs]"
   ]
  },
  {
   "cell_type": "code",
   "execution_count": 121,
   "metadata": {},
   "outputs": [],
   "source": [
    "# Choose the number of topics \n",
    "from gensim.models import LdaMulticore, CoherenceModel\n",
    "\n",
    "# Topics range\n",
    "min_topics = 5\n",
    "max_topics = 20\n",
    "step_size = 1\n",
    "topics_range = range(min_topics, max_topics, step_size)\n",
    "\n",
    "coherence_score = []\n",
    "model_list = []\n",
    "for k in topics_range:\n",
    "    model = LdaMulticore(bow_corpus, num_topics=k, id2word=dictionary)\n",
    "    model_list.append(model)\n",
    "    coherence_model = CoherenceModel(model=model, texts=docs, dictionary=dictionary, coherence='c_v')\n",
    "    coherence_score.append(coherence_model.get_coherence())"
   ]
  },
  {
   "cell_type": "code",
   "execution_count": 139,
   "metadata": {},
   "outputs": [
    {
     "data": {
      "image/png": "[encoded data removed]",
      "text/plain": [
       "<Figure size 432x288 with 1 Axes>"
      ]
     },
     "metadata": {},
     "output_type": "display_data"
    }
   ],
   "source": [
    "plt.plot(topics_range, coherence_score)\n",
    "plt.xlabel(\"Number of Topics\")\n",
    "plt.ylabel(\"Coherence score\")\n",
    "plt.legend((\"coherence scores\"), loc='best')\n",
    "plt.show()"
   ]
  },
  {
   "cell_type": "code",
   "execution_count": 254,
   "metadata": {},
   "outputs": [
    {
     "name": "stdout",
     "output_type": "stream",
     "text": [
      "Topic: 0 \n",
      "Words: 0.032*\"protest\" + 0.022*\"prison\" + 0.020*\"year\" + 0.016*\"sentenc\" + 0.015*\"thousand\" + 0.015*\"jail\" + 0.011*\"releas\" + 0.010*\"get\" + 0.010*\"death\" + 0.009*\"onlin\"\n",
      "\n",
      "\n",
      "Topic: 1 \n",
      "Words: 0.046*\"russian\" + 0.026*\"russia\" + 0.023*\"iraq\" + 0.022*\"putin\" + 0.019*\"milit\" + 0.017*\"forc\" + 0.014*\"state\" + 0.013*\"strike\" + 0.013*\"say\" + 0.013*\"troop\"\n",
      "\n",
      "\n",
      "Topic: 2 \n",
      "Words: 0.046*\"korea\" + 0.042*\"north\" + 0.042*\"china\" + 0.042*\"south\" + 0.035*\"iran\" + 0.029*\"nuclear\" + 0.022*\"sea\" + 0.020*\"missil\" + 0.017*\"launch\" + 0.016*\"test\"\n",
      "\n",
      "\n",
      "Topic: 3 \n",
      "Words: 0.042*\"state\" + 0.042*\"islam\" + 0.036*\"right\" + 0.034*\"human\" + 0.021*\"muslim\" + 0.017*\"group\" + 0.011*\"indonesia\" + 0.011*\"central\" + 0.011*\"malaysia\" + 0.010*\"earthquak\"\n",
      "\n",
      "\n",
      "Topic: 4 \n",
      "Words: 0.033*\"philippin\" + 0.032*\"climat\" + 0.030*\"chang\" + 0.016*\"hong\" + 0.016*\"kong\" + 0.014*\"raid\" + 0.012*\"asylum\" + 0.012*\"australia\" + 0.011*\"polic\" + 0.010*\"world\"\n",
      "\n",
      "\n",
      "Topic: 5 \n",
      "Words: 0.040*\"saudi\" + 0.023*\"militari\" + 0.022*\"pakistan\" + 0.020*\"arabia\" + 0.019*\"presid\" + 0.017*\"yemen\" + 0.017*\"deal\" + 0.017*\"venezuela\" + 0.014*\"rebel\" + 0.011*\"obama\"\n",
      "\n",
      "\n",
      "Topic: 6 \n",
      "Words: 0.055*\"israel\" + 0.036*\"isra\" + 0.033*\"border\" + 0.032*\"palestinian\" + 0.020*\"attack\" + 0.016*\"west\" + 0.016*\"gaza\" + 0.015*\"peac\" + 0.011*\"syria\" + 0.011*\"netanyahu\"\n",
      "\n",
      "\n",
      "Topic: 7 \n",
      "Words: 0.020*\"vote\" + 0.019*\"rule\" + 0.018*\"china\" + 0.017*\"parti\" + 0.013*\"elect\" + 0.012*\"law\" + 0.011*\"mosul\" + 0.010*\"govern\" + 0.010*\"say\" + 0.010*\"presid\"\n",
      "\n",
      "\n",
      "Topic: 8 \n",
      "Words: 0.016*\"rise\" + 0.014*\"world\" + 0.013*\"million\" + 0.012*\"china\" + 0.011*\"water\" + 0.009*\"brazil\" + 0.009*\"peopl\" + 0.008*\"death\" + 0.008*\"level\" + 0.008*\"food\"\n",
      "\n",
      "\n",
      "Topic: 9 \n",
      "Words: 0.092*\"kill\" + 0.036*\"attack\" + 0.034*\"bomb\" + 0.023*\"peopl\" + 0.023*\"polic\" + 0.022*\"dead\" + 0.016*\"citi\" + 0.016*\"suicid\" + 0.013*\"injur\" + 0.012*\"blast\"\n",
      "\n",
      "\n",
      "Topic: 10 \n",
      "Words: 0.027*\"news\" + 0.024*\"bbc\" + 0.019*\"case\" + 0.016*\"woman\" + 0.015*\"court\" + 0.014*\"alleg\" + 0.012*\"australian\" + 0.012*\"abus\" + 0.011*\"pope\" + 0.011*\"sex\"\n",
      "\n",
      "\n",
      "Topic: 11 \n",
      "Words: 0.047*\"minist\" + 0.017*\"prime\" + 0.016*\"state\" + 0.015*\"unit\" + 0.013*\"billion\" + 0.013*\"foreign\" + 0.012*\"fund\" + 0.011*\"said\" + 0.011*\"nation\" + 0.011*\"say\"\n",
      "\n",
      "\n",
      "Topic: 12 \n",
      "Words: 0.056*\"syria\" + 0.035*\"syrian\" + 0.028*\"turkey\" + 0.027*\"refuge\" + 0.024*\"war\" + 0.021*\"pari\" + 0.019*\"say\" + 0.015*\"attack\" + 0.014*\"turkish\" + 0.012*\"presid\"\n",
      "\n",
      "\n",
      "Topic: 13 \n",
      "Words: 0.025*\"global\" + 0.020*\"plane\" + 0.020*\"china\" + 0.020*\"crash\" + 0.016*\"jet\" + 0.016*\"flight\" + 0.013*\"air\" + 0.013*\"fighter\" + 0.012*\"block\" + 0.011*\"ship\"\n",
      "\n",
      "\n",
      "Topic: 14 \n",
      "Words: 0.050*\"russia\" + 0.030*\"ukrain\" + 0.023*\"crisi\" + 0.022*\"oil\" + 0.019*\"europ\" + 0.014*\"gas\" + 0.013*\"east\" + 0.011*\"eu\" + 0.011*\"japan\" + 0.010*\"obama\"\n",
      "\n",
      "\n",
      "Topic: 15 \n",
      "Words: 0.032*\"migrant\" + 0.026*\"child\" + 0.018*\"man\" + 0.016*\"arrest\" + 0.016*\"polic\" + 0.015*\"dead\" + 0.012*\"shot\" + 0.011*\"die\" + 0.010*\"woman\" + 0.010*\"suspect\"\n",
      "\n",
      "\n",
      "Topic: 16 \n",
      "Words: 0.039*\"terror\" + 0.017*\"greec\" + 0.014*\"olymp\" + 0.012*\"hack\" + 0.012*\"charg\" + 0.011*\"attack\" + 0.008*\"plot\" + 0.007*\"ancient\" + 0.007*\"inquiri\" + 0.007*\"trial\"\n",
      "\n",
      "\n",
      "Topic: 17 \n",
      "Words: 0.041*\"uk\" + 0.038*\"new\" + 0.017*\"eu\" + 0.016*\"european\" + 0.015*\"show\" + 0.013*\"reveal\" + 0.012*\"tax\" + 0.011*\"govern\" + 0.011*\"spi\" + 0.010*\"britain\"\n",
      "\n",
      "\n"
     ]
    }
   ],
   "source": [
    "lda_model = model_list[np.argmax(coherence_score)]\n",
    "\n",
    "for idx, topic in lda_model.print_topics(-1):\n",
    "    print(\"Topic: {} \\nWords: {}\".format(idx, topic ))\n",
    "    print(\"\\n\")"
   ]
  },
  {
   "cell_type": "markdown",
   "metadata": {},
   "source": [
    "## 3. Topic chain over 2016\n",
    "* Fit a LDA model for news titles of every month in 2016\n",
    "* Measure the similarity between topics using Hellinger distance \n",
    "* Find long and short term topics in 2016"
   ]
  },
  {
   "cell_type": "code",
   "execution_count": 227,
   "metadata": {},
   "outputs": [],
   "source": [
    "model_month = []\n",
    "for m in range(1,13):\n",
    "    corpus_by_month = [bow_corpus[i] for i in range(len(docs)) if news['year'][i]== 2016 and news['month'][i] == m]\n",
    "    model_by_month = LdaMulticore(corpus_by_month, num_topics=7, id2word=dictionary)\n",
    "    model_month.append(model_by_month)"
   ]
  },
  {
   "cell_type": "code",
   "execution_count": 252,
   "metadata": {},
   "outputs": [],
   "source": [
    "from gensim.matutils import hellinger\n",
    "\n",
    "thresh = 0.3\n",
    "chain = np.full((11, 7), None)\n",
    "metric = np.ones([11,7])\n",
    "for m in range(1,12):\n",
    "    for cur in range(7):\n",
    "        for pre in range(7):\n",
    "            dis = hellinger(model_month[m].get_topics()[cur], model_month[m-1].get_topics()[pre])\n",
    "            if dis < min(thresh,metric[m-1][cur]):\n",
    "                metric[m-1][cur] = dis\n",
    "                chain[m-1][cur] = pre"
   ]
  },
  {
   "cell_type": "code",
   "execution_count": 253,
   "metadata": {},
   "outputs": [
    {
     "data": {
      "text/plain": [
       "array([[None, 2, None, 1, None, None, None],\n",
       "       [None, None, None, 2, None, None, None],\n",
       "       [None, None, 3, None, None, None, None],\n",
       "       [None, 2, None, None, None, None, None],\n",
       "       [None, 1, None, 1, None, None, None],\n",
       "       [None, None, None, None, None, None, None],\n",
       "       [None, None, None, 0, None, None, None],\n",
       "       [None, None, None, None, None, None, None],\n",
       "       [None, None, None, None, None, None, None],\n",
       "       [5, 5, 5, 5, 5, 5, 5],\n",
       "       [None, None, None, None, None, None, None]], dtype=object)"
      ]
     },
     "execution_count": 253,
     "metadata": {},
     "output_type": "execute_result"
    }
   ],
   "source": [
    "chain"
   ]
  },
  {
   "cell_type": "code",
   "execution_count": 272,
   "metadata": {},
   "outputs": [
    {
     "name": "stdout",
     "output_type": "stream",
     "text": [
      "Long term topic:\n",
      "(2, '0.004*\"china\" + 0.003*\"attack\" + 0.002*\"say\" + 0.002*\"india\" + 0.002*\"south\" + 0.002*\"abus\" + 0.002*\"north\" + 0.002*\"korea\" + 0.002*\"kill\" + 0.002*\"bomb\"')\n",
      "(3, '0.003*\"kill\" + 0.002*\"say\" + 0.002*\"govern\" + 0.002*\"refuge\" + 0.002*\"syrian\" + 0.002*\"india\" + 0.002*\"new\" + 0.002*\"polic\" + 0.001*\"syria\" + 0.001*\"million\"')\n",
      "(2, '0.003*\"world\" + 0.003*\"set\" + 0.002*\"korea\" + 0.002*\"protest\" + 0.002*\"kill\" + 0.002*\"plan\" + 0.002*\"north\" + 0.002*\"syria\" + 0.002*\"isi\" + 0.002*\"aleppo\"')\n",
      "(1, '0.003*\"kill\" + 0.002*\"govern\" + 0.002*\"leader\" + 0.002*\"million\" + 0.002*\"say\" + 0.002*\"new\" + 0.002*\"child\" + 0.002*\"countri\" + 0.001*\"year\" + 0.001*\"presid\"')\n",
      "\n",
      "\n",
      "Major events in a short time:\n",
      "(5, '0.005*\"news\" + 0.004*\"bbc\" + 0.002*\"russian\" + 0.002*\"south\" + 0.002*\"plan\" + 0.002*\"attack\" + 0.002*\"mosul\" + 0.002*\"new\" + 0.001*\"india\" + 0.001*\"kill\"')\n"
     ]
    }
   ],
   "source": [
    "print('Long term topic:')\n",
    "print(model_month[1].print_topics()[2])\n",
    "print(model_month[2].print_topics()[3])\n",
    "print(model_month[3].print_topics()[2])\n",
    "print(model_month[4].print_topics()[1])\n",
    "\n",
    "print(\"\\n\")\n",
    "print('Major events in a short time:')\n",
    "print(model_month[9].print_topics()[5])"
   ]
  },
  {
   "cell_type": "markdown",
   "metadata": {},
   "source": [
    "## Reference:\n",
    "[gensim: LDA](https://radimrehurek.com/gensim/auto_examples/tutorials/run_lda.html#sphx-glr-download-auto-examples-tutorials-run-lda-py)\n",
    "\n",
    "[gensim: Distance Metrics](https://radimrehurek.com/gensim/auto_examples/tutorials/run_distance_metrics.html)\n",
    "\n",
    "[Topic Modeling and Latent Dirichlet Allocation (LDA) in Python](https://towardsdatascience.com/topic-modeling-and-latent-dirichlet-allocation-in-python-9bf156893c24)\n",
    "\n",
    "[Topic Modeling in Python](https://towardsdatascience.com/end-to-end-topic-modeling-in-python-latent-dirichlet-allocation-lda-35ce4ed6b3e0)\n",
    "\n",
    "[Evaluate Topic Models: Latent Dirichlet Allocation (LDA)](https://towardsdatascience.com/evaluate-topic-model-in-python-latent-dirichlet-allocation-lda-7d57484bb5d0)\n"
   ]
  }
 ],
 "metadata": {
  "kernelspec": {
   "display_name": "Python 3",
   "language": "python",
   "name": "python3"
  },
  "language_info": {
   "codemirror_mode": {
    "name": "ipython",
    "version": 3
   },
   "file_extension": ".py",
   "mimetype": "text/x-python",
   "name": "python",
   "nbconvert_exporter": "python",
   "pygments_lexer": "ipython3",
   "version": "3.8.1"
  }
 },
 "nbformat": 4,
 "nbformat_minor": 2
}
